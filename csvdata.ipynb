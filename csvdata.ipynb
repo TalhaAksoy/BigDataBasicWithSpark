{
 "cells": [
  {
   "attachments": {},
   "cell_type": "markdown",
   "metadata": {},
   "source": [
    "Quantity degerlerini iki katina cikarip price degeri 5 den buyukleri csv den okudugumuz kod"
   ]
  },
  {
   "cell_type": "code",
   "execution_count": 26,
   "metadata": {},
   "outputs": [
    {
     "name": "stdout",
     "output_type": "stream",
     "text": [
      "+-------+---------+--------------------+--------+-------------------+-----+-----------+--------------+\n",
      "|Invoice|StockCode|         Description|Quantity|        InvoiceDate|Price|Customer ID|       Country|\n",
      "+-------+---------+--------------------+--------+-------------------+-----+-----------+--------------+\n",
      "| 489434|    85048|15CM CHRISTMAS GL...|    24.0|2009-12-01 07:45:00| 6.95|    13085.0|United Kingdom|\n",
      "| 489434|   79323P|  PINK CHERRY LIGHTS|    24.0|2009-12-01 07:45:00| 6.75|    13085.0|United Kingdom|\n",
      "| 489434|   79323W| WHITE CHERRY LIGHTS|    24.0|2009-12-01 07:45:00| 6.75|    13085.0|United Kingdom|\n",
      "| 489436|    22119| PEACE WOODEN BLO...|     6.0|2009-12-01 09:06:00| 6.95|    13078.0|United Kingdom|\n",
      "| 489436|    22194|BLACK DINER WALL ...|     4.0|2009-12-01 09:06:00|  8.5|    13078.0|United Kingdom|\n",
      "| 489437|    21364|PEACE SMALL WOOD ...|     4.0|2009-12-01 09:08:00| 6.75|    15362.0|United Kingdom|\n",
      "| 489437|    21360|JOY LARGE WOOD LE...|     2.0|2009-12-01 09:08:00| 9.95|    15362.0|United Kingdom|\n",
      "| 489437|    21351|CINAMMON & ORANGE...|     4.0|2009-12-01 09:08:00| 6.75|    15362.0|United Kingdom|\n",
      "| 489437|    21352|EUCALYPTUS & PINE...|     4.0|2009-12-01 09:08:00| 6.75|    15362.0|United Kingdom|\n",
      "| 489437|    35400|WOODEN BOX ADVENT...|     4.0|2009-12-01 09:08:00| 8.95|    15362.0|United Kingdom|\n",
      "| 489438|   85132A|CHARLIE + LOLA BI...|   120.0|2009-12-01 09:24:00| 6.38|    18102.0|United Kingdom|\n",
      "| 489438|   85132C|CHARLIE AND LOLA ...|   120.0|2009-12-01 09:24:00|  6.4|    18102.0|United Kingdom|\n",
      "| 489439|    20749|ASSORTED COLOUR M...|     4.0|2009-12-01 09:28:00| 7.95|    12682.0|        France|\n",
      "| 489439|     POST|             POSTAGE|     6.0|2009-12-01 09:28:00| 18.0|    12682.0|        France|\n",
      "| 489442|    21955|UNION JACK GUNS &...|     4.0|2009-12-01 09:46:00| 6.75|    13635.0|United Kingdom|\n",
      "| 489444|     POST|             POSTAGE|     2.0|2009-12-01 09:55:00|141.0|    12636.0|           USA|\n",
      "| 489445|    22180|     RETRO SPOT LAMP|     4.0|2009-12-01 09:57:00| 9.95|    17519.0|United Kingdom|\n",
      "| 489445|    21299|EDWARDIAN TOILET ...|     2.0|2009-12-01 09:57:00|12.75|    17519.0|United Kingdom|\n",
      "| 489446|    21217|RED SPOTTY ROUND ...|    24.0|2009-12-01 10:06:00| 8.95|    13758.0|United Kingdom|\n",
      "| 489446|    85066|CREAM SWEETHEART ...|     4.0|2009-12-01 10:06:00|12.75|    13758.0|United Kingdom|\n",
      "+-------+---------+--------------------+--------+-------------------+-----+-----------+--------------+\n",
      "only showing top 20 rows\n",
      "\n"
     ]
    },
    {
     "data": {
      "text/plain": [
       "142443"
      ]
     },
     "execution_count": 26,
     "metadata": {},
     "output_type": "execute_result"
    }
   ],
   "source": [
    "from pyspark.sql import SparkSession\n",
    "from pyspark.sql.functions import col , sum\n",
    "from pyspark.sql.types import StringType, BooleanType, DateType\n",
    "from pyspark.sql.functions import when\n",
    "from pyspark.sql.types import StructType,StructField, StringType, IntegerType , FloatType\n",
    "from pyspark.sql.functions import desc\n",
    "\n",
    "spark = SparkSession.builder.appName(\"CSVData\").getOrCreate()\n",
    "\n",
    "df = spark.read.csv(\"online_retail_II.csv\", header=True)\n",
    "\n",
    "df = df.withColumn(\"Quantity\", col(\"Quantity\") * 2).where(col(\"Price\") > 5)\n",
    "\n",
    "df.show()\n",
    "df.count()"
   ]
  },
  {
   "attachments": {},
   "cell_type": "markdown",
   "metadata": {},
   "source": [
    "Csv den okunan degerleri France Olarak Ve Price Degerlerini Buyukten Kucuge Siralayan ve Sonrada Price Degerlerinin Toplamini Gosteren Kod ve sutun ekleyip Quantity , Price\n",
    "Degerlerinin Carpimini Yaziyoruz"
   ]
  },
  {
   "cell_type": "code",
   "execution_count": 39,
   "metadata": {},
   "outputs": [
    {
     "name": "stdout",
     "output_type": "stream",
     "text": [
      "Country == France And Lower Sort\n",
      "+-------+---------+--------------------+--------+-------------------+-----+-----------+-------+-------------------+\n",
      "|Invoice|StockCode|         Description|Quantity|        InvoiceDate|Price|Customer ID|Country|       Total Amount|\n",
      "+-------+---------+--------------------+--------+-------------------+-----+-----------+-------+-------------------+\n",
      "|C511739|    22634|CHILDS BREAKFAST ...|      -5|2010-06-10 10:40:00| 9.95|    12682.0| France|             -49.75|\n",
      "| 531741|    22890|NOVELTY BISCUITS ...|       2|2010-11-09 12:48:00| 9.95|    12682.0| France|               19.9|\n",
      "| 511096|    22635|CHILDS BREAKFAST ...|       4|2010-06-06 15:49:00| 9.95|    12682.0| France|               39.8|\n",
      "| 510683|    22635|CHILDS BREAKFAST ...|       6|2010-06-03 09:29:00| 9.95|    12682.0| France| 59.699999999999996|\n",
      "| 553316|    22894|TABLECLOTH RED AP...|       4|2011-05-16 12:04:00| 9.95|    12682.0| France|               39.8|\n",
      "| 510683|    22634|CHILDS BREAKFAST ...|       6|2010-06-03 09:29:00| 9.95|    12682.0| France| 59.699999999999996|\n",
      "| 567296|    23397|FOOT STOOL HOME S...|       2|2011-09-19 12:19:00| 9.95|    12682.0| France|               19.9|\n",
      "| 515945|    22622|BOX OF VINTAGE AL...|       6|2010-07-15 15:32:00| 9.95|    12682.0| France| 59.699999999999996|\n",
      "| 563189|    23317|BLUE REFECTORY CL...|       2|2011-08-12 15:22:00| 9.95|    12682.0| France|               19.9|\n",
      "|C511739|    22635|CHILDS BREAKFAST ...|      -3|2010-06-10 10:40:00| 9.95|    12682.0| France|-29.849999999999998|\n",
      "| 496616|    21054|NURSE'S BAG SOFT TOY|       6|2010-02-03 09:03:00| 8.95|    12682.0| France| 53.699999999999996|\n",
      "| 494280|    21055|  TOOL BOX SOFT TOY |       4|2010-01-13 10:43:00| 8.95|    12682.0| France|               35.8|\n",
      "| 498890|    21055|  TOOL BOX SOFT TOY |       6|2010-02-23 13:21:00| 8.95|    12682.0| France| 53.699999999999996|\n",
      "| 498890|    21054|NURSE'S BAG SOFT TOY|       4|2010-02-23 13:21:00| 8.95|    12682.0| France|               35.8|\n",
      "| 494280|    21054|NURSE'S BAG SOFT TOY|       5|2010-01-13 10:43:00| 8.95|    12682.0| France|              44.75|\n",
      "| 498890|    21056|DOCTOR'S BAG SOFT...|       6|2010-02-23 13:21:00| 8.95|    12682.0| France| 53.699999999999996|\n",
      "| 526240|    22894|TABLECLOTH RED AP...|       6|2010-10-11 09:11:00|  8.5|    12682.0| France|               51.0|\n",
      "| 542904|    22894|TABLECLOTH RED AP...|       2|2011-02-01 14:58:00|  8.5|    12682.0| France|               17.0|\n",
      "| 575519|    22941|CHRISTMAS LIGHTS ...|       2|2011-11-10 10:53:00|  8.5|    12682.0| France|               17.0|\n",
      "| 510683|    22636|CHILDS BREAKFAST ...|       6|2010-06-03 09:29:00|  8.5|    12682.0| France|               51.0|\n",
      "+-------+---------+--------------------+--------+-------------------+-----+-----------+-------+-------------------+\n",
      "only showing top 20 rows\n",
      "\n",
      "Total price is: 3126\n"
     ]
    }
   ],
   "source": [
    "newData = spark.read.csv(\"online_retail_II.csv\", header=True)\n",
    "\n",
    "newData = newData.filter((col(\"Country\") == \"France\") & (col(\"Customer ID\") == 12682.0)).orderBy(desc(\"Price\"))\n",
    "newData = newData.withColumn(\"Total Amount\", col(\"Quantity\") * col(\"Price\")).select(\"*\")\n",
    "print(\"Country == France And Lower Sort\")\n",
    "newData.show()\n",
    "\n",
    "newData = newData.withColumn(\"Price\", col(\"Price\").cast(\"integer\"))\n",
    "total_price = newData.agg(sum(\"Price\")).collect()[0][0]\n",
    "print(\"Total price is:\", total_price)"
   ]
  },
  {
   "attachments": {},
   "cell_type": "markdown",
   "metadata": {},
   "source": [
    "yeni bir dosyaya yazdik Quantitiysi 50 den buyuk olanlari"
   ]
  },
  {
   "cell_type": "code",
   "execution_count": 47,
   "metadata": {},
   "outputs": [
    {
     "name": "stdout",
     "output_type": "stream",
     "text": [
      "+-------+---------+--------------------+--------+-------------------+-----+-----------+--------------+\n",
      "|Invoice|StockCode|         Description|Quantity|        InvoiceDate|Price|Customer ID|       Country|\n",
      "+-------+---------+--------------------+--------+-------------------+-----+-----------+--------------+\n",
      "| 489438|    20711|     JUMBO BAG TOYS |      60|2009-12-01 09:24:00|  1.3|    18102.0|United Kingdom|\n",
      "| 489438|   84031A|CHARLIE+LOLA RED ...|      56|2009-12-01 09:24:00|  3.0|    18102.0|United Kingdom|\n",
      "| 489438|   84031B|CHARLIE LOLA BLUE...|      56|2009-12-01 09:24:00|  3.0|    18102.0|United Kingdom|\n",
      "| 489438|   84032A|CHARLIE+LOLA PINK...|      60|2009-12-01 09:24:00|  1.9|    18102.0|United Kingdom|\n",
      "| 489438|   84032B|CHARLIE + LOLA RE...|      56|2009-12-01 09:24:00|  1.9|    18102.0|United Kingdom|\n",
      "| 489438|   84519A|TOMATO CHARLIE+LO...|      56|2009-12-01 09:24:00| 2.15|    18102.0|United Kingdom|\n",
      "| 489438|   84519B|CARROT CHARLIE+LO...|      60|2009-12-01 09:24:00|  2.4|    18102.0|United Kingdom|\n",
      "| 489438|   85132A|CHARLIE + LOLA BI...|      60|2009-12-01 09:24:00| 6.38|    18102.0|United Kingdom|\n",
      "| 489438|   85132C|CHARLIE AND LOLA ...|      60|2009-12-01 09:24:00|  6.4|    18102.0|United Kingdom|\n",
      "| 489438|   85183A|CHARLIE & LOLA WA...|      60|2009-12-01 09:24:00|  2.4|    18102.0|United Kingdom|\n",
      "| 489438|   85183B|CHARLIE & LOLA WA...|      60|2009-12-01 09:24:00|  2.4|    18102.0|United Kingdom|\n",
      "| 489460|    84598|BOYS ALPHABET IRO...|     576|2009-12-01 10:46:00| 0.21|    16167.0|United Kingdom|\n",
      "| 489460|    84568|GIRLS ALPHABET IR...|     288|2009-12-01 10:46:00| 0.21|    16167.0|United Kingdom|\n",
      "| 489465|   85123A|WHITE HANGING HEA...|      64|2009-12-01 10:52:00| 2.55|    13767.0|United Kingdom|\n",
      "| 489465|    84879|ASSORTED COLOUR B...|     160|2009-12-01 10:52:00| 1.45|    13767.0|United Kingdom|\n",
      "| 489514|    21791|VINTAGE HEADS AND...|      72|2009-12-01 11:21:00| 1.06|    15311.0|United Kingdom|\n",
      "| 489520|    21842|PINK HEART CANDY ...|      54|2009-12-01 11:41:00| 2.55|    14911.0|          EIRE|\n",
      "| 489523|    84879|ASSORTED COLOUR B...|     800|2009-12-01 11:46:00| 1.45|    12931.0|United Kingdom|\n",
      "| 489532|    16235|RECYCLED PENCIL W...|      60|2009-12-01 11:58:00| 0.21|    13394.0|United Kingdom|\n",
      "| 489540|    22083|PAPER CHAIN KIT R...|      58|2009-12-01 12:18:00| 2.55|    12913.0|United Kingdom|\n",
      "+-------+---------+--------------------+--------+-------------------+-----+-----------+--------------+\n",
      "only showing top 20 rows\n",
      "\n"
     ]
    },
    {
     "name": "stderr",
     "output_type": "stream",
     "text": [
      "                                                                                \r"
     ]
    }
   ],
   "source": [
    "newData2 = spark.read.csv(\"online_retail_II.csv\", header=True)\n",
    "\n",
    "newData2 = newData2.filter((col(\"Quantity\") > 50))\n",
    "newData2 = newData2.coalesce(1)\n",
    "\n",
    "newData2.show()\n",
    "\n",
    "newData2.write.option(\"delimiter\", \",\").csv(\"output.csv\", mode=\"overwrite\", header=True)"
   ]
  }
 ],
 "metadata": {
  "kernelspec": {
   "display_name": "Python 3",
   "language": "python",
   "name": "python3"
  },
  "language_info": {
   "codemirror_mode": {
    "name": "ipython",
    "version": 3
   },
   "file_extension": ".py",
   "mimetype": "text/x-python",
   "name": "python",
   "nbconvert_exporter": "python",
   "pygments_lexer": "ipython3",
   "version": "3.10.6"
  },
  "orig_nbformat": 4
 },
 "nbformat": 4,
 "nbformat_minor": 2
}
